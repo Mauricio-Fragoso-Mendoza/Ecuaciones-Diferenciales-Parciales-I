{
  "nbformat": 4,
  "nbformat_minor": 0,
  "metadata": {
    "colab": {
      "provenance": [],
      "authorship_tag": "ABX9TyNICQIebw6cYBJjL7l8VH1z",
      "include_colab_link": true
    },
    "kernelspec": {
      "name": "python3",
      "display_name": "Python 3"
    },
    "language_info": {
      "name": "python"
    }
  },
  "cells": [
    {
      "cell_type": "markdown",
      "metadata": {
        "id": "view-in-github",
        "colab_type": "text"
      },
      "source": [
        "<a href=\"https://colab.research.google.com/github/Mauricio-Fragoso-Mendoza/Ecuaciones-Diferenciales-Parciales-I/blob/main/Ecuaci%C3%B3n_de_Legendre.ipynb\" target=\"_parent\"><img src=\"https://colab.research.google.com/assets/colab-badge.svg\" alt=\"Open In Colab\"/></a>"
      ]
    },
    {
      "cell_type": "markdown",
      "source": [
        "1.- Se graficarán los Polinomios de Legendre con $n=1,2,3,4,5$"
      ],
      "metadata": {
        "id": "UK1fhiJoMHkj"
      }
    },
    {
      "cell_type": "code",
      "execution_count": 6,
      "metadata": {
        "colab": {
          "base_uri": "https://localhost:8080/",
          "height": 383
        },
        "id": "-Ds7sFBtMA4P",
        "outputId": "21926d96-f53e-420f-bdc5-06c466ebd15e"
      },
      "outputs": [
        {
          "output_type": "error",
          "ename": "ModuleNotFoundError",
          "evalue": "No module named 'mathplotlib'",
          "traceback": [
            "\u001b[0;31m---------------------------------------------------------------------------\u001b[0m",
            "\u001b[0;31mModuleNotFoundError\u001b[0m                       Traceback (most recent call last)",
            "\u001b[0;32m<ipython-input-6-c026ffaa5d09>\u001b[0m in \u001b[0;36m<cell line: 0>\u001b[0;34m()\u001b[0m\n\u001b[1;32m      2\u001b[0m \u001b[0;32mfrom\u001b[0m \u001b[0mnumpy\u001b[0m \u001b[0;32mimport\u001b[0m \u001b[0;34m*\u001b[0m\u001b[0;34m\u001b[0m\u001b[0;34m\u001b[0m\u001b[0m\n\u001b[1;32m      3\u001b[0m \u001b[0;32mimport\u001b[0m \u001b[0mnumpy\u001b[0m \u001b[0;32mas\u001b[0m \u001b[0mnp\u001b[0m\u001b[0;34m\u001b[0m\u001b[0;34m\u001b[0m\u001b[0m\n\u001b[0;32m----> 4\u001b[0;31m \u001b[0;32mimport\u001b[0m \u001b[0mmathplotlib\u001b[0m\u001b[0;34m.\u001b[0m\u001b[0mpyplot\u001b[0m \u001b[0;32mas\u001b[0m \u001b[0mplt\u001b[0m\u001b[0;34m\u001b[0m\u001b[0;34m\u001b[0m\u001b[0m\n\u001b[0m\u001b[1;32m      5\u001b[0m \u001b[0;34m\u001b[0m\u001b[0m\n\u001b[1;32m      6\u001b[0m \u001b[0mx\u001b[0m \u001b[0;34m=\u001b[0m \u001b[0marange\u001b[0m \u001b[0;34m(\u001b[0m\u001b[0;36m0.1\u001b[0m\u001b[0;34m,\u001b[0m\u001b[0;36m20\u001b[0m\u001b[0;34m,\u001b[0m\u001b[0;36m0.1\u001b[0m\u001b[0;34m)\u001b[0m\u001b[0;34m\u001b[0m\u001b[0;34m\u001b[0m\u001b[0m\n",
            "\u001b[0;31mModuleNotFoundError\u001b[0m: No module named 'mathplotlib'",
            "",
            "\u001b[0;31m---------------------------------------------------------------------------\u001b[0;32m\nNOTE: If your import is failing due to a missing package, you can\nmanually install dependencies using either !pip or !apt.\n\nTo view examples of installing some common dependencies, click the\n\"Open Examples\" button below.\n\u001b[0;31m---------------------------------------------------------------------------\u001b[0m\n"
          ],
          "errorDetails": {
            "actions": [
              {
                "action": "open_url",
                "actionText": "Open Examples",
                "url": "/notebooks/snippets/importing_libraries.ipynb"
              }
            ]
          }
        }
      ],
      "source": [
        "from math import *\n",
        "from numpy import *\n",
        "import numpy as np\n",
        "import mathplotlib.pyplot as plt\n",
        "\n",
        "x = arange (0.1,20,0.1)\n",
        "\n",
        "y0 = 1\n",
        "y1 = x\n",
        "y2 = 1/2*(-1+3*x**2)\n",
        "y3 = 1/2*(-3*x+5*x**3)\n",
        "y4 =1/8*(3-30*x**2+35*x**4)\n",
        "y5 = 1/8*(15*x-70*x**3+63*x**5)\n",
        "p1, p2, p3, p4, p5, p6 = plot(x,y0,x,y1,x,y2,x,y3,x,y4,x,y5)\n",
        "\n",
        "texto0 = 'P_0(x)'\n",
        "texto1 = 'P_1(x)'\n",
        "texto2 = 'P_2(x)'\n",
        "texto3 = 'P_3(x)'\n",
        "texto4 = 'P_4(x)'\n",
        "texto5 = 'P_5(x)'\n",
        "\n",
        "plt.grid()\n",
        "\n",
        "plt.title('Polinomios de Legendre')\n",
        "plt.xlabel()\n",
        "plt.ylabel()\n",
        "\n",
        "plt.show()"
      ]
    }
  ]
}