{
  "cells": [
    {
      "cell_type": "markdown",
      "metadata": {
        "id": "36rnxiJCxB3H"
      },
      "source": [
        "# Análisis de una solución de la ecuación del calor"
      ]
    },
    {
      "cell_type": "markdown",
      "metadata": {
        "id": "iv4pEZm9xB3I"
      },
      "source": [
        "Calcularemos las series de Fourier en senos y cosenos para la función $f(x)=e^{2x}$ para $0 \\leq x \\leq 1$\n",
        "\n",
        "\n",
        "Las expresiones finales son:\n",
        "<font color=\"green\">Serie de Fourier en Cosenos</font>\n",
        "$$a_0=e^2-1$$ y $$a_n=\\frac{2}{n^2 \\pi^2+4}((-1)^ne^2-1)$$\n",
        "<font color=\"red\">Serie de Fourier en Senos</font>\n",
        "$$b_n=-\\frac{n\\pi}{n^2 \\pi^2+4}((-1)^ne^2-1)$$\n",
        "<font color=\"blue\">Construcción final de la Serie de Fourier</font>\n",
        "$$f(x)=e^{2x}=e^2-1+\\sum_{n=1}^{\\infty}\\frac{2-n\\pi}{n^2 \\pi^2+4}((-1)^ne^2-1)$$"
      ]
    },
    {
      "cell_type": "markdown",
      "metadata": {
        "id": "bV8pRkS1xB3I"
      },
      "source": [
        "Este problema modela la transferencia de calor en una barra ideal delgada, con $k=1$."
      ]
    },
    {
      "cell_type": "code",
      "execution_count": null,
      "metadata": {
        "id": "R0hhszIgxB3I"
      },
      "outputs": [],
      "source": [
        "from pylab import *"
      ]
    },
    {
      "cell_type": "markdown",
      "metadata": {
        "id": "VzCn8ZaAxB3J"
      },
      "source": [
        "Para empezar, graficamos la condición inicial."
      ]
    },
    {
      "cell_type": "code",
      "execution_count": null,
      "metadata": {
        "id": "apYjXSWGxB3J"
      },
      "outputs": [],
      "source": [
        "def recta(x):\n",
        "    y = zeros(len(x))\n",
        "    for i in range(len(x)):\n",
        "        y[i] = x[i]\n",
        "    return y"
      ]
    },
    {
      "cell_type": "code",
      "execution_count": null,
      "metadata": {
        "id": "E7xxePJuxB3J"
      },
      "outputs": [],
      "source": [
        "x = linspace(0,1,1000)\n",
        "f = recta(x)\n",
        "plot(x,f,label='$u(x,0)=x$')\n",
        "plt.xlabel('$x$'); plt.ylabel('$f(x)$');\n",
        "plt.title(\"Condición inicial (u(x,0)=f(x))\")\n",
        "xlim([-0.01,1.01]),ylim([-0.01,1.01]),grid(),legend()\n",
        "show()"
      ]
    },
    {
      "cell_type": "markdown",
      "metadata": {
        "id": "rG757eDTxB3J"
      },
      "source": [
        "Usamos una serie de Fourier para aproximar la condición inicial $u(x,0)=f(x)=x$."
      ]
    },
    {
      "cell_type": "code",
      "execution_count": null,
      "metadata": {
        "id": "4yK4iwiExB3K"
      },
      "outputs": [],
      "source": [
        "def u_0(x,N=20): # N es el número de armónicos\n",
        "    f = zeros(len(x))\n",
        "    for n in range(1,N):\n",
        "        f += (-1)**(n+1)*sin(n*pi*x)/(n)\n",
        "    return (2.0/pi)*f"
      ]
    },
    {
      "cell_type": "code",
      "execution_count": null,
      "metadata": {
        "id": "OmsAlNMFxB3K"
      },
      "outputs": [],
      "source": [
        "f_n = u_0(x)\n",
        "plot(x,f_n,label='$f_N(x)$ con $N=20$')\n",
        "plot(x,f,label='$f(x)=x$')\n",
        "plt.xlabel('$x$'); plt.ylabel('$f(x)$');\n",
        "plt.title(\"Aproximación de la condición inicial\")\n",
        "xlim([-0.01,1.1]),ylim([-0.01,1.2]),grid(),legend()\n",
        "show()"
      ]
    },
    {
      "cell_type": "markdown",
      "metadata": {
        "id": "idP_DDRyxB3K"
      },
      "source": [
        "Podemos visualizar la aproximación para diferentes cantidades de armónicos."
      ]
    },
    {
      "cell_type": "code",
      "execution_count": null,
      "metadata": {
        "id": "sg0d0NMUxB3K"
      },
      "outputs": [],
      "source": [
        "for i in range(1,20,5):\n",
        "    plot(x,u_0(x,i),label='$f_N(x)$ con $N=%d$' %i)\n",
        "plt.xlabel('$x$'); plt.ylabel('$f(x)$');\n",
        "plt.title(\"Aproximación de la condición inicial\")\n",
        "xlim([-0.01,1.01]),ylim([-0.01,1.2]),grid(),legend()\n",
        "show()"
      ]
    },
    {
      "cell_type": "markdown",
      "metadata": {
        "id": "5T43u3YVxB3K"
      },
      "source": [
        "Ahora, agregamos la parte temporal para visualizar la solución completa. Primero, para el momento inicial, $t=0$."
      ]
    },
    {
      "cell_type": "code",
      "execution_count": null,
      "metadata": {
        "id": "LnF_MA9SxB3L"
      },
      "outputs": [],
      "source": [
        "def u_x_t(x,t,N=50):\n",
        "    f = zeros( (len(x),len(t)) )\n",
        "    for i in range(len(t)):\n",
        "        for n in range(1,N):\n",
        "            f[:,i] += (-1)**(n+1)*sin(n*pi*x)/(n)*exp(-n**2*pi**2*t[i])\n",
        "    return (2.0/pi)*f"
      ]
    },
    {
      "cell_type": "code",
      "execution_count": null,
      "metadata": {
        "id": "fRu-KCcJxB3L"
      },
      "outputs": [],
      "source": [
        "x = linspace(0,1,1000)\n",
        "t = linspace(0,10,1000)\n",
        "U = u_x_t(x,t)"
      ]
    },
    {
      "cell_type": "code",
      "execution_count": null,
      "metadata": {
        "id": "nudTpsokxB3L"
      },
      "outputs": [],
      "source": [
        "plot(x,U[:,0],label='$u(x,0)$')\n",
        "plt.xlabel('$x$'); plt.ylabel('$f(x)$');\n",
        "plt.title(\"Aproximación de la condición inicial\")\n",
        "xlim([-0.01,1.01]),ylim([-0.01,1.2]),grid(),legend()\n",
        "show()"
      ]
    },
    {
      "cell_type": "markdown",
      "metadata": {
        "id": "GpgXnnftxB3L"
      },
      "source": [
        "Luego, para diferentes tiempos, lo cual nos permite ver cómo la solución evoluciona cuando $t \\to \\infty$."
      ]
    },
    {
      "cell_type": "code",
      "execution_count": null,
      "metadata": {
        "id": "v9UVvr0LxB3L"
      },
      "outputs": [],
      "source": [
        "plot(x,U[:,0],label='$u(x,t=0)$') # Mejorar\n",
        "plot(x,U[:,1],label='$u(x,t=1)$')\n",
        "plot(x,U[:,2],label='$u(x,t=2)$')\n",
        "plot(x,U[:,3],label='$u(x,t=3)$')\n",
        "plot(x,U[:,10],label='$u(x,t=10)$')\n",
        "plot(x,U[:,20],label='$u(x,t=20)$')\n",
        "plt.xlabel('$x$'); plt.ylabel('$u(x,t)$');\n",
        "plt.title(\"Evolución de la solución\")\n",
        "xlim([-0.01,1.01]),ylim([-0.01,1.2]),grid(),legend()\n",
        "show()"
      ]
    },
    {
      "cell_type": "markdown",
      "metadata": {
        "id": "G5vv6En2xB3L"
      },
      "source": [
        "Y podemos ver esto en una gráfica en 3D."
      ]
    },
    {
      "cell_type": "code",
      "execution_count": null,
      "metadata": {
        "id": "L1iTvbS0xB3L"
      },
      "outputs": [],
      "source": [
        "#%matplotlib notebook\n",
        "from mpl_toolkits.mplot3d import Axes3D\n",
        "\n",
        "fig = plt.figure(figsize=(12,10))\n",
        "ax = fig.add_subplot(111, projection=\"3d\")\n",
        "\n",
        "x = linspace(0,1.0,100)\n",
        "t = linspace(0,1.0,100)\n",
        "\n",
        "X,T = np.meshgrid(x,t)\n",
        "\n",
        "U = u_x_t(x,t)\n",
        "\n",
        "plt.xlabel('$t$'); plt.ylabel('$x$');\n",
        "plt.title(\"u(x,t)\")\n",
        "ax.plot_surface(X, T, U, cmap=\"inferno\"); #Otros colores:\"viridis\", \"inferno\", \"plasma\""
      ]
    },
    {
      "cell_type": "code",
      "execution_count": null,
      "metadata": {
        "id": "Dkl2t5TTxB3M"
      },
      "outputs": [],
      "source": []
    }
  ],
  "metadata": {
    "kernelspec": {
      "display_name": "Python 3 (ipykernel)",
      "language": "python",
      "name": "python3"
    },
    "language_info": {
      "codemirror_mode": {
        "name": "ipython",
        "version": 3
      },
      "file_extension": ".py",
      "mimetype": "text/x-python",
      "name": "python",
      "nbconvert_exporter": "python",
      "pygments_lexer": "ipython3",
      "version": "3.7.3"
    },
    "colab": {
      "provenance": []
    }
  },
  "nbformat": 4,
  "nbformat_minor": 0
}