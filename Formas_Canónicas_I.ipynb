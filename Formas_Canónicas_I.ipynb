{
  "nbformat": 4,
  "nbformat_minor": 0,
  "metadata": {
    "colab": {
      "provenance": [],
      "authorship_tag": "ABX9TyOTZW5pajnkHuqPCgRVKc3m",
      "include_colab_link": true
    },
    "kernelspec": {
      "name": "python3",
      "display_name": "Python 3"
    },
    "language_info": {
      "name": "python"
    }
  },
  "cells": [
    {
      "cell_type": "markdown",
      "metadata": {
        "id": "view-in-github",
        "colab_type": "text"
      },
      "source": [
        "<a href=\"https://colab.research.google.com/github/Mauricio-Fragoso-Mendoza/Ecuaciones-Diferenciales-Parciales-I/blob/main/Formas_Can%C3%B3nicas_I.ipynb\" target=\"_parent\"><img src=\"https://colab.research.google.com/assets/colab-badge.svg\" alt=\"Open In Colab\"/></a>"
      ]
    },
    {
      "cell_type": "markdown",
      "source": [
        "Se tiene la expresión: $u_{xx}-3u_{xy}-10u_{yy}=0$; con $A=1$, $B=-3$, $C=-10$\n",
        "\n",
        "Además; si $I=B^2-4AC = (-3)^2 -4(1)(-10) = 9+40=49$, la ecuación es hiperbólica y:\n",
        "\n",
        "$\\xi = -Bx+2Ay=3x+2y$\n",
        "\n",
        "$\\eta = x$"
      ],
      "metadata": {
        "id": "AF6j0XampFdu"
      }
    },
    {
      "cell_type": "markdown",
      "source": [
        "Posteriormente, con $a_{11}=3$, $a_{12}=2$, $a_{21}=1$, $a_{22}=0$:\n",
        "$$u_x=a_{11}u_\\xi+a_{21}u_\\eta = 3u_\\xi+u_\\eta$$\n",
        "$$u_y=a_{12}u_\\xi+a_{22}u_\\eta = 2u_\\xi$$\n",
        "$$u_{xx}=a_{11}^2u_{\\xi \\xi}+2a_{11}a_{21}u_{\\xi \\eta}+a_{21}^2u_{\\eta \\eta} = 3^2u_{\\xi \\xi}+2(3)(1)u_{\\xi \\eta}+1^2u_{\\eta \\eta} = 9u_{\\xi \\xi}+6u_{\\xi \\eta}+u_{\\eta \\eta}$$\n",
        "$$u_{xy}=a_{11}a_{22}u_{\\xi \\xi}+a_{12}(a_{11}+a_{21})u_{\\xi \\eta}+a_{12}a_{22}u_{\\eta \\eta} = (3)(0)u_{\\xi \\xi}+2(3+1)u_{\\xi \\eta}+(2)(0)u_{\\eta \\eta} = 8u_{\\xi \\eta}$$\n",
        "$$u_{yy}=a_{12}^2u_{\\xi \\xi}+2a_{12}a_{22}u_{\\xi \\eta}+a_{22}^2u_{\\eta \\eta} = 2^2u_{\\xi \\xi}+2(2)(0)u_{\\xi \\eta}+0^2u_{\\eta \\eta} = 4u_{\\xi \\xi}$$\n",
        "\n",
        "\n"
      ],
      "metadata": {
        "id": "xuuJEZylv25v"
      }
    },
    {
      "cell_type": "markdown",
      "source": [
        "Luego, se obtendrán $A'$, $B'$, $C'$"
      ],
      "metadata": {
        "id": "wzwxtXrl0PJP"
      }
    },
    {
      "cell_type": "code",
      "execution_count": 2,
      "metadata": {
        "colab": {
          "base_uri": "https://localhost:8080/"
        },
        "id": "D7dMjGd8pD_T",
        "outputId": "9c402744-246e-49c2-b3b1-d11e15982d1c"
      },
      "outputs": [
        {
          "output_type": "stream",
          "name": "stdout",
          "text": [
            "-49 0 1\n"
          ]
        }
      ],
      "source": [
        "from sympy import *\n",
        "A,B,C,I =symbols('A B C I')\n",
        "\n",
        "A = 3**2*1+3*2*-3+2**2*-10\n",
        "B = 2*3*1*1+(3*0+2*1)*-3+2*2*0*-10\n",
        "C = 1**2*1+1*0*-3+0**2*-10\n",
        "print(A,B,C)"
      ]
    },
    {
      "cell_type": "markdown",
      "source": [
        "Simbología: $v=u_\\xi$, $w=u_\\eta$, $x=u_{\\xi \\xi}$, $y=u_{\\xi \\eta}$, $z=u_{\\eta \\eta}$"
      ],
      "metadata": {
        "id": "xG5H9gqv2Con"
      }
    },
    {
      "cell_type": "code",
      "source": [
        "from sympy import symbols\n",
        "\n",
        "E,I,v,w,x,y,z = symbols('E I v w x y z')\n",
        "\n",
        "# Assuming A, B, and C are defined elsewhere, for demonstration, let's define them.\n",
        "# In a real scenario, these would come from your problem context.\n",
        "A, B, C = symbols('A B C')\n",
        "\n",
        "I=B**2-4*A*C\n",
        "E=A*(9*x+6*y+z)+B*(8*y)+C*(4*x)\n",
        "print(I,E)"
      ],
      "metadata": {
        "colab": {
          "base_uri": "https://localhost:8080/"
        },
        "id": "kq0KiPyQ2aNP",
        "outputId": "5e9468dc-006c-4f23-c810-5b2750445c4e"
      },
      "execution_count": 4,
      "outputs": [
        {
          "output_type": "stream",
          "name": "stdout",
          "text": [
            "-4*A*C + B**2 A*(9*x + 6*y + z) + 8*B*y + 4*C*x\n"
          ]
        }
      ]
    }
  ]
}